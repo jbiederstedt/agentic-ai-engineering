{
 "cells": [
  {
   "cell_type": "markdown",
   "metadata": {},
   "source": [
    "# Welcome to the start of your adventure in Agentic AI"
   ]
  },
  {
   "cell_type": "markdown",
   "metadata": {},
   "source": [
    "<table style=\"margin: 0; text-align: left; width:100%\">\n",
    "    <tr>\n",
    "        <td style=\"width: 150px; height: 150px; vertical-align: middle;\">\n",
    "            <img src=\"../assets/stop.png\" width=\"150\" height=\"150\" style=\"display: block;\" />\n",
    "        </td>\n",
    "        <td>\n",
    "            <h2 style=\"color:#ff7800;\">Are you ready for action??</h2>\n",
    "            <span style=\"color:#ff7800;\">Have you completed all the setup steps in the <a href=\"../setup/\">setup</a> folder?<br/>\n",
    "            Have you checked out the guides in the <a href=\"../guides/01_intro.ipynb\">guides</a> folder?<br/>\n",
    "            Well in that case, you're ready!!\n",
    "            </span>\n",
    "        </td>\n",
    "    </tr>\n",
    "</table>"
   ]
  },
  {
   "cell_type": "markdown",
   "metadata": {},
   "source": [
    "<table style=\"margin: 0; text-align: left; width:100%\">\n",
    "    <tr>\n",
    "        <td style=\"width: 150px; height: 150px; vertical-align: middle;\">\n",
    "            <img src=\"../assets/tools.png\" width=\"150\" height=\"150\" style=\"display: block;\" />\n",
    "        </td>\n",
    "        <td>\n",
    "            <h2 style=\"color:#00bfff;\">This code is a live resource - keep an eye out for my updates</h2>\n",
    "            <span style=\"color:#00bfff;\">I push updates regularly. As people ask questions or have problems, I add more examples and improve explanations. As a result, the code below might not be identical to the videos, as I've added more steps and better comments. Consider this like an interactive book that accompanies the lectures.<br/><br/>\n",
    "            I try to send emails regularly with important updates related to the course. You can find this in the 'Announcements' section of Udemy in the left sidebar. You can also choose to receive my emails via your Notification Settings in Udemy. I'm respectful of your inbox and always try to add value with my emails!\n",
    "            </span>\n",
    "        </td>\n",
    "    </tr>\n",
    "</table>"
   ]
  },
  {
   "cell_type": "markdown",
   "metadata": {},
   "source": [
    "### And please do remember to contact me if I can help\n",
    "\n",
    "And I love to connect: https://www.linkedin.com/in/eddonner/\n",
    "\n",
    "\n",
    "### New to Notebooks like this one? Head over to the guides folder!\n",
    "\n",
    "Just to check you've already added the Python and Jupyter extensions to Cursor, if not already installed:\n",
    "- Open extensions (View >> extensions)\n",
    "- Search for python, and when the results show, click on the ms-python one, and Install it if not already installed\n",
    "- Search for jupyter, and when the results show, click on the Microsoft one, and Install it if not already installed  \n",
    "Then View >> Explorer to bring back the File Explorer.\n",
    "\n",
    "And then:\n",
    "1. Click where it says \"Select Kernel\" near the top right, and select the option called `.venv (Python 3.12.9)` or similar, which should be the first choice or the most prominent choice. You may need to choose \"Python Environments\" first.\n",
    "2. Click in each \"cell\" below, starting with the cell immediately below this text, and press Shift+Enter to run\n",
    "3. Enjoy!\n",
    "\n",
    "After you click \"Select Kernel\", if there is no option like `.venv (Python 3.12.9)` then please do the following:  \n",
    "1. On Mac: From the Cursor menu, choose Settings >> VS Code Settings (NOTE: be sure to select `VSCode Settings` not `Cursor Settings`);  \n",
    "On Windows PC: From the File menu, choose Preferences >> VS Code Settings(NOTE: be sure to select `VSCode Settings` not `Cursor Settings`)  \n",
    "2. In the Settings search bar, type \"venv\"  \n",
    "3. In the field \"Path to folder with a list of Virtual Environments\" put the path to the project root, like C:\\Users\\username\\projects\\agents (on a Windows PC) or /Users/username/projects/agents (on Mac or Linux).  \n",
    "And then try again.\n",
    "\n",
    "Having problems with missing Python versions in that list? Have you ever used Anaconda before? It might be interferring. Quit Cursor, bring up a new command line, and make sure that your Anaconda environment is deactivated:    \n",
    "`conda deactivate`  \n",
    "And if you still have any problems with conda and python versions, it's possible that you will need to run this too:  \n",
    "`conda config --set auto_activate_base false`  \n",
    "and then from within the Agents directory, you should be able to run `uv python list` and see the Python 3.12 version."
   ]
  },
  {
   "cell_type": "code",
   "execution_count": 1,
   "metadata": {},
   "outputs": [],
   "source": [
    "# First let's do an import\n",
    "from dotenv import load_dotenv\n"
   ]
  },
  {
   "cell_type": "code",
   "execution_count": 2,
   "metadata": {},
   "outputs": [
    {
     "data": {
      "text/plain": [
       "True"
      ]
     },
     "execution_count": 2,
     "metadata": {},
     "output_type": "execute_result"
    }
   ],
   "source": [
    "# Next it's time to load the API keys into environment variables\n",
    "\n",
    "load_dotenv(override=True)"
   ]
  },
  {
   "cell_type": "code",
   "execution_count": 3,
   "metadata": {},
   "outputs": [
    {
     "name": "stdout",
     "output_type": "stream",
     "text": [
      "OpenAI API Key exists and begins sk-proj-\n"
     ]
    }
   ],
   "source": [
    "# Check the keys\n",
    "\n",
    "import os\n",
    "openai_api_key = os.getenv('OPENAI_API_KEY')\n",
    "\n",
    "if openai_api_key:\n",
    "    print(f\"OpenAI API Key exists and begins {openai_api_key[:8]}\")\n",
    "else:\n",
    "    print(\"OpenAI API Key not set - please head to the troubleshooting guide in the setup folder\")\n",
    "    \n"
   ]
  },
  {
   "cell_type": "code",
   "execution_count": 4,
   "metadata": {},
   "outputs": [],
   "source": [
    "# And now - the all important import statement\n",
    "# If you get an import error - head over to troubleshooting guide\n",
    "\n",
    "from openai import OpenAI"
   ]
  },
  {
   "cell_type": "code",
   "execution_count": 5,
   "metadata": {},
   "outputs": [],
   "source": [
    "# And now we'll create an instance of the OpenAI class\n",
    "# If you're not sure what it means to create an instance of a class - head over to the guides folder!\n",
    "# If you get a NameError - head over to the guides folder to learn about NameErrors\n",
    "\n",
    "openai = OpenAI()"
   ]
  },
  {
   "cell_type": "code",
   "execution_count": 6,
   "metadata": {},
   "outputs": [],
   "source": [
    "# Create a list of messages in the familiar OpenAI format\n",
    "\n",
    "messages = [{\"role\": \"user\", \"content\": \"What is 2+2?\"}]"
   ]
  },
  {
   "cell_type": "code",
   "execution_count": 7,
   "metadata": {},
   "outputs": [
    {
     "name": "stdout",
     "output_type": "stream",
     "text": [
      "2 + 2 equals 4.\n"
     ]
    }
   ],
   "source": [
    "# And now call it! Any problems, head to the troubleshooting guide\n",
    "# This uses GPT 4.1 nano, the incredibly cheap model\n",
    "\n",
    "response = openai.chat.completions.create(\n",
    "    model=\"gpt-4.1-nano\",\n",
    "    messages=messages\n",
    ")\n",
    "\n",
    "print(response.choices[0].message.content)\n"
   ]
  },
  {
   "cell_type": "code",
   "execution_count": 8,
   "metadata": {},
   "outputs": [],
   "source": [
    "# And now - let's ask for a question:\n",
    "\n",
    "question = \"Please propose a hard, challenging question to assess someone's IQ. Respond only with the question.\"\n",
    "messages = [{\"role\": \"user\", \"content\": question}]\n"
   ]
  },
  {
   "cell_type": "code",
   "execution_count": 9,
   "metadata": {},
   "outputs": [
    {
     "name": "stdout",
     "output_type": "stream",
     "text": [
      "If all Bloops are Razzies and some Razzies are Lazzies, can it be conclusively determined that some Bloops are definitely Lazzies? Explain your reasoning.\n"
     ]
    }
   ],
   "source": [
    "# ask it - this uses GPT 4.1 mini, still cheap but more powerful than nano\n",
    "\n",
    "response = openai.chat.completions.create(\n",
    "    model=\"gpt-4.1-mini\",\n",
    "    messages=messages\n",
    ")\n",
    "\n",
    "question = response.choices[0].message.content\n",
    "\n",
    "print(question)\n"
   ]
  },
  {
   "cell_type": "code",
   "execution_count": 10,
   "metadata": {},
   "outputs": [],
   "source": [
    "# form a new messages list\n",
    "messages = [{\"role\": \"user\", \"content\": question}]\n"
   ]
  },
  {
   "cell_type": "code",
   "execution_count": 11,
   "metadata": {},
   "outputs": [
    {
     "name": "stdout",
     "output_type": "stream",
     "text": [
      "Let's analyze the given statements step-by-step using logic and basic set theory:\n",
      "\n",
      "1. **All Bloops are Razzies.**  \n",
      "   This means the set of Bloops is entirely inside the set of Razzies. Symbolically:  \n",
      "   \\[\n",
      "   \\text{Bloops} \\subseteq \\text{Razzies}\n",
      "   \\]\n",
      "\n",
      "2. **Some Razzies are Lazzies.**  \n",
      "   This means there is at least one element that is both a Razzie and a Lazzy. Symbolically:  \n",
      "   \\[\n",
      "   \\exists x : x \\in \\text{Razzies} \\land x \\in \\text{Lazzies}\n",
      "   \\]\n",
      "\n",
      "**Question:** Can we conclude that **some Bloops are definitely Lazzies?**\n",
      "\n",
      "---\n",
      "\n",
      "### Reasoning\n",
      "\n",
      "- From statement 1, every Bloop is inside Razzies.\n",
      "- From statement 2, there are some Razzies that are Lazzies.\n",
      "- However, the \"some Razzies\" that are Lazzies might or might not be Bloops.  \n",
      "  For example:  \n",
      "  - If the Razzies that are Lazzies include some Bloops, then some Bloops are Lazzies.  \n",
      "  - If the Razzies that are Lazzies do **not** include any Bloops (i.e., they come from the part of Razzies outside Bloops), then no Bloops are Lazzies.\n",
      "\n",
      "Therefore, the information given is **not sufficient** to conclude that some Bloops are definitely Lazzies.\n",
      "\n",
      "---\n",
      "\n",
      "### Venn Diagram Illustration\n",
      "\n",
      "- Draw a large circle labeled Razzies.\n",
      "- Inside it, a smaller circle labeled Bloops.\n",
      "- Another circle overlapping Razzies (Lazzies), but its overlap with Bloops is unknown.\n",
      "- Since \"some Razzies are Lazzies,\" this overlap is non-empty.\n",
      "- However, this overlap could be entirely outside the Bloops circle.\n",
      "\n",
      "---\n",
      "\n",
      "### Conclusion\n",
      "\n",
      "**No, it cannot be conclusively determined that some Bloops are definitely Lazzies based on the given information.**\n",
      "\n",
      "The premises only guarantee that:  \n",
      "- Bloops are a subset of Razzies.  \n",
      "- Some Razzies are Lazzies.  \n",
      "\n",
      "But they do not guarantee any overlap between Bloops and Lazzies.\n"
     ]
    }
   ],
   "source": [
    "# Ask it again\n",
    "\n",
    "response = openai.chat.completions.create(\n",
    "    model=\"gpt-4.1-mini\",\n",
    "    messages=messages\n",
    ")\n",
    "\n",
    "answer = response.choices[0].message.content\n",
    "print(answer)\n"
   ]
  },
  {
   "cell_type": "code",
   "execution_count": 12,
   "metadata": {},
   "outputs": [
    {
     "data": {
      "text/markdown": [
       "Let's analyze the given statements step-by-step using logic and basic set theory:\n",
       "\n",
       "1. **All Bloops are Razzies.**  \n",
       "   This means the set of Bloops is entirely inside the set of Razzies. Symbolically:  \n",
       "   \\[\n",
       "   \\text{Bloops} \\subseteq \\text{Razzies}\n",
       "   \\]\n",
       "\n",
       "2. **Some Razzies are Lazzies.**  \n",
       "   This means there is at least one element that is both a Razzie and a Lazzy. Symbolically:  \n",
       "   \\[\n",
       "   \\exists x : x \\in \\text{Razzies} \\land x \\in \\text{Lazzies}\n",
       "   \\]\n",
       "\n",
       "**Question:** Can we conclude that **some Bloops are definitely Lazzies?**\n",
       "\n",
       "---\n",
       "\n",
       "### Reasoning\n",
       "\n",
       "- From statement 1, every Bloop is inside Razzies.\n",
       "- From statement 2, there are some Razzies that are Lazzies.\n",
       "- However, the \"some Razzies\" that are Lazzies might or might not be Bloops.  \n",
       "  For example:  \n",
       "  - If the Razzies that are Lazzies include some Bloops, then some Bloops are Lazzies.  \n",
       "  - If the Razzies that are Lazzies do **not** include any Bloops (i.e., they come from the part of Razzies outside Bloops), then no Bloops are Lazzies.\n",
       "\n",
       "Therefore, the information given is **not sufficient** to conclude that some Bloops are definitely Lazzies.\n",
       "\n",
       "---\n",
       "\n",
       "### Venn Diagram Illustration\n",
       "\n",
       "- Draw a large circle labeled Razzies.\n",
       "- Inside it, a smaller circle labeled Bloops.\n",
       "- Another circle overlapping Razzies (Lazzies), but its overlap with Bloops is unknown.\n",
       "- Since \"some Razzies are Lazzies,\" this overlap is non-empty.\n",
       "- However, this overlap could be entirely outside the Bloops circle.\n",
       "\n",
       "---\n",
       "\n",
       "### Conclusion\n",
       "\n",
       "**No, it cannot be conclusively determined that some Bloops are definitely Lazzies based on the given information.**\n",
       "\n",
       "The premises only guarantee that:  \n",
       "- Bloops are a subset of Razzies.  \n",
       "- Some Razzies are Lazzies.  \n",
       "\n",
       "But they do not guarantee any overlap between Bloops and Lazzies."
      ],
      "text/plain": [
       "<IPython.core.display.Markdown object>"
      ]
     },
     "metadata": {},
     "output_type": "display_data"
    }
   ],
   "source": [
    "from IPython.display import Markdown, display\n",
    "\n",
    "display(Markdown(answer))\n",
    "\n"
   ]
  },
  {
   "cell_type": "markdown",
   "metadata": {},
   "source": [
    "# Congratulations!\n",
    "\n",
    "That was a small, simple step in the direction of Agentic AI, with your new environment!\n",
    "\n",
    "Next time things get more interesting..."
   ]
  },
  {
   "cell_type": "markdown",
   "metadata": {},
   "source": [
    "<table style=\"margin: 0; text-align: left; width:100%\">\n",
    "    <tr>\n",
    "        <td style=\"width: 150px; height: 150px; vertical-align: middle;\">\n",
    "            <img src=\"../assets/exercise.png\" width=\"150\" height=\"150\" style=\"display: block;\" />\n",
    "        </td>\n",
    "        <td>\n",
    "            <h2 style=\"color:#ff7800;\">Exercise</h2>\n",
    "            <span style=\"color:#ff7800;\">Now try this commercial application:<br/>\n",
    "            First ask the LLM to pick a business area that might be worth exploring for an Agentic AI opportunity.<br/>\n",
    "            Then ask the LLM to present a pain-point in that industry - something challenging that might be ripe for an Agentic solution.<br/>\n",
    "            Finally have 3 third LLM call propose the Agentic AI solution.\n",
    "            </span>\n",
    "        </td>\n",
    "    </tr>\n",
    "</table>"
   ]
  },
  {
   "cell_type": "code",
   "execution_count": 13,
   "metadata": {},
   "outputs": [
    {
     "name": "stdout",
     "output_type": "stream",
     "text": [
      "**Supply Chain and Logistics**\n",
      "\n",
      "This industry involves numerous repetitive tasks such as inventory management, route optimization, and demand forecasting, as well as complex decision-making processes that require real-time data analysis. Automating these functions with Agentic AI could significantly enhance efficiency, reduce operational costs, and improve responsiveness to market changes, making it a prime candidate for transformation.\n"
     ]
    }
   ],
   "source": [
    "# STEP 1: Pick a business area for Agentic AI opportunity\n",
    "\n",
    "messages = [{\"role\": \"user\", \"content\": \"Please identify a business area or industry that would be ripe for an Agentic AI opportunity. Focus on industries with repetitive tasks, complex decision-making processes, or high operational costs that could benefit from automation and intelligent assistance. Respond with just the industry name and a brief 1-2 sentence explanation of why it's promising.\"}]\n",
    "\n",
    "response = openai.chat.completions.create(\n",
    "    model=\"gpt-4o-mini\",\n",
    "    messages=messages,\n",
    ")\n",
    "\n",
    "business_idea = response.choices[0].message.content\n",
    "\n",
    "print(business_idea)\n"
   ]
  },
  {
   "cell_type": "code",
   "execution_count": 14,
   "metadata": {},
   "outputs": [
    {
     "name": "stdout",
     "output_type": "stream",
     "text": [
      "One significant pain point in the Supply Chain and Logistics industry is **demand forecasting**. Demand forecasting involves predicting customer demand for products at various times, which is critical for inventory management, production planning, and logistics operations. The challenge arises from several factors:\n",
      "\n",
      "### Specific Problem: Inaccurate Demand Forecasting\n",
      "\n",
      "**Description**: \n",
      "Demand forecasting often relies on historical sales data, seasonal trends, and external factors like market conditions or economic indicators. However, many businesses struggle to accurately predict future demand due to the complexity and volatility of market dynamics. Traditional forecasting methods can be overly simplistic or fail to incorporate real-time data, leading to either overstocking or understocking of inventory.\n",
      "\n",
      "**Impact on Business Operations**:\n",
      "1. **Inventory Costs**: Inaccurate forecasts can result in excess inventory, tying up capital and incurring additional storage costs. Conversely, understocking can lead to stockouts, lost sales, and diminished customer satisfaction.\n",
      "   \n",
      "2. **Operational Disruptions**: Frequent fluctuations in demand may trigger emergency shipments or overtime work for supply chain workers, increasing operational costs and causing delays.\n",
      "\n",
      "3. **Waste and Spoilage**: For perishable goods, poor demand forecasting can lead to significant waste and spoilage, translating to lost revenue and increased disposal costs.\n",
      "\n",
      "4. **Customer Satisfaction**: Inconsistent product availability due to miscalculations can damage a company's reputation and diminish customer loyalty, ultimately affecting long-term profitability.\n",
      "\n",
      "5. **Strategic Decision-Making**: Ineffective demand forecasts hinder strategic planning and decision-making across the supply chain, making it challenging to align resources with actual market needs.\n",
      "\n",
      "### Conclusion\n",
      "Overall, inaccurate demand forecasting is a persistent challenge in the Supply Chain and Logistics industry that leads to significant financial implications and operational inefficiencies. Implementing automation solutions powered by Agentic AI can help businesses analyze real-time data more effectively, utilize advanced algorithms for predictive analytics, and ultimately transform their forecasting accuracy, leading to improved operational efficiency and reduced costs.\n"
     ]
    }
   ],
   "source": [
    "# STEP 2: Identify a specific pain point in that industry\n",
    "\n",
    "messages = [{\"role\": \"user\", \"content\": f\"Based on the industry identified ({business_idea}), please identify a specific, concrete pain point or challenge that businesses in this industry face. This should be something that is time-consuming, error-prone, expensive, or frustrating for human workers. Be specific about the problem and its impact on business operations.\"}]\n",
    "\n",
    "response = openai.chat.completions.create(\n",
    "    model=\"gpt-4o-mini\",\n",
    "    messages=messages,\n",
    ")\n",
    "\n",
    "pain_point = response.choices[0].message.content\n",
    "\n",
    "print(pain_point)"
   ]
  },
  {
   "cell_type": "code",
   "execution_count": 15,
   "metadata": {},
   "outputs": [
    {
     "name": "stdout",
     "output_type": "stream",
     "text": [
      "### Proposal for an Agentic AI Solution to Improve Demand Forecasting in Supply Chain and Logistics\n",
      "\n",
      "**Overview**\n",
      "An Agentic AI solution designed to tackle the issue of inaccurate demand forecasting in the Supply Chain and Logistics industry would employ advanced machine learning algorithms and real-time data processing capabilities. This AI agent would autonomously analyze various data sources, predict future demand, and provide actionable insights, all while interacting seamlessly with existing systems and human operations.\n",
      "\n",
      "### Key Components of the AI Agent\n",
      "\n",
      "1. **Data Ingestion and Integration**\n",
      "   - **Tools Needed**:\n",
      "     - APIs or connectors for real-time data ingestion from ERP, CRM, and TMS systems\n",
      "     - ETL (Extract, Transform, Load) tools to preprocess historical and external data\n",
      "     - Cloud storage solutions for data archiving and analysis\n",
      "   - **Capabilities**:\n",
      "     - Collect a diverse range of data, including historical sales data, inventory levels, market conditions, economic indicators, and consumer behavior analytics.\n",
      "     - Support data from IoT devices (e.g., sensors in warehouses and trucks) to gather real-time insights on stock levels and transportation delays.\n",
      "\n",
      "2. **Predictive Analytics Engine**\n",
      "   - **Tools Needed**:\n",
      "     - Machine learning frameworks (e.g., TensorFlow, PyTorch) for developing predictive models\n",
      "     - Statistical analysis libraries (e.g., R, Python’s NumPy/Pandas) for analyzing trends and seasonality\n",
      "   - **Capabilities**:\n",
      "     - Use advanced algorithms (e.g., time series forecasting, regression models, and neural networks) to generate accurate demand forecasts.\n",
      "     - Continuously refine forecasting models through reinforcement learning based on real-time data feedback.\n",
      "\n",
      "3. **Autonomous Decision-Making Framework**\n",
      "   - **Tools Needed**:\n",
      "     - Rule-based decision-making logic to trigger specific actions based on forecast results\n",
      "     - Integration mechanisms to communicate with other systems (e.g., inventory management, procurement)\n",
      "   - **Capabilities**:\n",
      "     - Make autonomous decisions regarding inventory replenishment, such as triggering purchase orders or alerting suppliers.\n",
      "     - Adjust production schedules proactively based on forecast changes to optimize resources.\n",
      "\n",
      "4. **User Interface and Interaction Layer**\n",
      "   - **Tools Needed**:\n",
      "     - Dashboards for visualization using business intelligence tools (e.g., Tableau, Power BI)\n",
      "     - Chatbots or communication interfaces for interacting with human operators\n",
      "   - **Capabilities**:\n",
      "     - Provide real-time dashboards displaying forecasts, inventory status, and alerts for potential stockouts or overstock situations.\n",
      "     - Offer natural language processing (NLP) capabilities for query responses, allowing users to ask questions or receive insights interactively.\n",
      "\n",
      "### Workflow of the AI Agent\n",
      "\n",
      "1. **Data Collection**:\n",
      "   - The agent continuously collects data from various sources, updating in real time to capture any changes in sales trends, inventory levels, and market conditions.\n",
      "\n",
      "2. **Data Processing**:\n",
      "   - Historical data is preprocessed to remove anomalies, and external factors like promotions or economic indicators are integrated into the dataset.\n",
      "\n",
      "3. **Forecast Generation**:\n",
      "   - The predictive analytics engine generates demand forecasts, identifying potential overstock and understock situations.\n",
      "\n",
      "4. **Decision Execution**:\n",
      "   - Based on the forecasts, the AI agent autonomously triggers actions, such as adjusting inventory levels, notifying procurement for restocking, or revising production plans.\n",
      "\n",
      "5. **Performance Monitoring**:\n",
      "   - Continuously monitor the accuracy of forecasts against actual sales data, feeding insights back into the model for ongoing adjustments.\n",
      "\n",
      "6. **Human Interaction**:\n",
      "   - The AI agent provides summaries and alerts to human operators, allowing them to review and modify the agent’s recommendations. For example, if there is a sudden spike in demand due to a promotional campaign, operators can quickly adjust strategies based on AI insights.\n",
      "\n",
      "### Benefits of the AI Solution\n",
      "\n",
      "1. **Increased Forecast Accuracy**: The AI agent leverages vast amounts of data and advanced analytics to improve the precision of demand forecasts, reducing both overstock and stockouts.\n",
      "\n",
      "2. **Operational Efficiency**: By automating routine decision-making processes, the AI agent minimizes human intervention, saving time and reducing the potential for errors.\n",
      "\n",
      "3. **Cost Reduction**: Enhanced demand forecasting leads to lower inventory carrying costs, decreased waste, and improved resource allocation.\n",
      "\n",
      "4. **Enhanced Customer Satisfaction**: Consistent product availability helps maintain customer loyalty and satisfaction, as the company is better able to meet demand.\n",
      "\n",
      "5. **Strategic Decision Support**: The agent’s insights can contribute to longer-term strategic planning, helping businesses align their supply chain resources with market demand patterns.\n",
      "\n",
      "### Conclusion\n",
      "\n",
      "Implementing an Agentic AI solution to improve demand forecasting in the Supply Chain and Logistics industry offers a transformative approach that addresses the pain points associated with inaccurate demand predictions. By leveraging advanced data analytics, real-time data integration, and autonomous decision-making capabilities, companies can optimize their operations, reduce costs, and enhance customer satisfaction while driving overall business performance.\n"
     ]
    }
   ],
   "source": [
    "# STEP 3: Propose an Agentic AI solution\n",
    "\n",
    "messages = [{\"role\": \"user\", \"content\": f\"Given the industry ({business_idea}) and the specific pain point ({pain_point}), please propose a detailed Agentic AI solution. Describe how an AI agent could autonomously solve this problem, what tools it would need, what decisions it could make, and how it would interact with existing systems and human workers. Be specific about the agent's capabilities and workflow.\"}]\n",
    "\n",
    "response = openai.chat.completions.create(\n",
    "    model=\"gpt-4o-mini\",\n",
    "    messages=messages,\n",
    ")\n",
    "\n",
    "solution = response.choices[0].message.content\n",
    "\n",
    "print(solution)"
   ]
  },
  {
   "cell_type": "markdown",
   "metadata": {},
   "source": []
  }
 ],
 "metadata": {
  "kernelspec": {
   "display_name": ".venv",
   "language": "python",
   "name": "python3"
  },
  "language_info": {
   "codemirror_mode": {
    "name": "ipython",
    "version": 3
   },
   "file_extension": ".py",
   "mimetype": "text/x-python",
   "name": "python",
   "nbconvert_exporter": "python",
   "pygments_lexer": "ipython3",
   "version": "3.12.11"
  }
 },
 "nbformat": 4,
 "nbformat_minor": 2
}
